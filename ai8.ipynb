{
 "cells": [
  {
   "cell_type": "code",
   "execution_count": null,
   "metadata": {},
   "outputs": [],
   "source": [
    "# This Python 3 environment comes with many helpful analytics libraries installed\n",
    "# It is defined by the kaggle/python Docker image: https://github.com/kaggle/docker-python\n",
    "# For example, here's several helpful packages to load\n",
    "\n",
    "import numpy as np # linear algebra\n",
    "import pandas as pd # data processing, CSV file I/O (e.g. pd.read_csv)\n",
    "\n",
    "# Input data files are available in the read-only \"../input/\" directory\n",
    "# For example, running this (by clicking run or pressing Shift+Enter) will list all files under the input directory\n",
    "\n",
    "import os\n",
    "for dirname, _, filenames in os.walk('/kaggle/input'):\n",
    "    for filename in filenames:\n",
    "        print(os.path.join(dirname, filename))\n",
    "\n",
    "# You can write up to 20GB to the current directory (/kaggle/working/) that gets preserved as output when you create a version using \"Save & Run All\" \n",
    "# You can also write temporary files to /kaggle/temp/, but they won't be saved outside of the current session\n"
   ]
  },
  {
   "cell_type": "code",
   "execution_count": null,
   "metadata": {},
   "outputs": [],
   "source": [
    "!pip install finance-datareader"
   ]
  },
  {
   "cell_type": "code",
   "execution_count": null,
   "metadata": {},
   "outputs": [],
   "source": [
    "import torch\n",
    "import torch.nn as nn\n",
    "import torch.optim as optim\n",
    "import FinanceDataReader as fdr\n",
    "from sklearn import preprocessing\n",
    "import matplotlib.pyplot as plt\n",
    "import datetime\n",
    "\n",
    "start_date = datetime.datetime.now() - datetime.timedelta(days=365*20)\n",
    "# 현재 시간으로부터 20년 전 날짜 계산\n",
    "\n",
    "df_heelim = fdr.DataReader('037440', start_date)\n",
    "normalizer = preprocessing.MinMaxScaler()\n",
    "\n",
    "prep_heelim = df_heelim\n",
    "prep_heelim['Volume'] = df_heelim['Volume'].replace(0, np.nan)\n",
    "prep_heelim = prep_heelim.dropna()\n",
    "prep_heelim\n",
    "\n",
    "plt.figure(figsize=(7,4))\n",
    "\n",
    "plt.title('prep_heelim')\n",
    "plt.ylabel('price (won)')\n",
    "plt.xlabel('period (day)')\n",
    "plt.grid()\n",
    "\n",
    "plt.plot(df_heelim['Close'], label='Close', color='r')\n",
    "plt.legend(loc='best')\n",
    "\n",
    "plt.show()\n",
    "\n",
    "norm_cols = ['Open', 'Close', 'Volume']\n",
    "norm_heelim_np = normalizer.fit_transform(prep_heelim[norm_cols])\n",
    "\n",
    "norm_heelim = pd.DataFrame(norm_heelim_np, columns=norm_cols)\n",
    "norm_heelim\n",
    "\n",
    "plt.title('norm_heelim')\n",
    "plt.plot(norm_heelim['Close'], label='Close', color='purple')\n",
    "plt.show()"
   ]
  },
  {
   "cell_type": "code",
   "execution_count": null,
   "metadata": {},
   "outputs": [],
   "source": [
    "import torch\n",
    "import torch.nn as nn\n",
    "import pandas as pd\n",
    "import numpy as np\n",
    "import matplotlib.pyplot as plt\n",
    "import FinanceDataReader as fdr\n",
    "from sklearn.preprocessing import MinMaxScaler\n",
    "from sklearn.model_selection import train_test_split"
   ]
  },
  {
   "cell_type": "code",
   "execution_count": null,
   "metadata": {},
   "outputs": [],
   "source": [
    "type(df_heelim)\n",
    "df_heelim.head(1)"
   ]
  },
  {
   "cell_type": "code",
   "execution_count": null,
   "metadata": {},
   "outputs": [],
   "source": [
    "data = df_heelim[[\"Open\", \"Close\", \"Volume\"]]\n",
    "data = data.dropna() # 결측치 제거\n",
    "data = data.apply(pd.to_numeric, errors='coerce') # 문자열을 NaN으로 변환\n",
    "data = data.dropna() # NaN 제거\n",
    "data = data.values # pandas DataFrame을 numpy 배열로 변환\n",
    "data = np.array(data, dtype='float64')\n"
   ]
  },
  {
   "cell_type": "code",
   "execution_count": null,
   "metadata": {},
   "outputs": [],
   "source": [
    "# 정규화\n",
    "mean = np.mean(data, axis=0)\n",
    "std = np.std(data, axis=0)\n",
    "data = (data - mean) / std\n",
    "\n",
    "# 데이터 분할\n",
    "train_data = data[:-10]\n",
    "test_data = data[-10:]\n",
    "\n",
    "# 하이퍼파라미터 설정\n",
    "input_size = 3\n",
    "hidden_size = 64\n",
    "num_layers = 2\n",
    "output_size = 13\n",
    "seq_length = 40\n",
    "learning_rate = 0.01\n",
    "num_epochs = 100\n",
    "\n",
    "# RNN 모델 정의\n",
    "class RNN(nn.Module):\n",
    "    def __init__(self, input_size, hidden_size, num_layers, output_size):\n",
    "        super(RNN, self).__init__()\n",
    "        self.hidden_size = hidden_size\n",
    "        self.num_layers = num_layers\n",
    "        self.rnn = nn.RNN(input_size, hidden_size, num_layers, batch_first=True)\n",
    "        self.fc = nn.Linear(hidden_size, output_size)\n",
    "\n",
    "    def forward(self, x):\n",
    "        h0 = torch.zeros(self.num_layers, x.size(0), self.hidden_size).to(device)\n",
    "        out, _ = self.rnn(x, h0)\n",
    "        out = self.fc(out[:, -1, :])\n",
    "        return out"
   ]
  },
  {
   "cell_type": "code",
   "execution_count": null,
   "metadata": {},
   "outputs": [],
   "source": [
    "# 모델 초기화\n",
    "device = torch.device('cuda' if torch.cuda.is_available() else 'cpu')\n",
    "model = RNN(input_size, hidden_size, num_layers, output_size).to(device)\n",
    "\n",
    "# 손실 함수와 최적화 알고리즘 정의\n",
    "criterion = nn.CrossEntropyLoss()\n",
    "optimizer = torch.optim.Adam(model.parameters(), lr=learning_rate)\n"
   ]
  },
  {
   "cell_type": "code",
   "execution_count": null,
   "metadata": {},
   "outputs": [],
   "source": [
    "train_data.shape"
   ]
  },
  {
   "cell_type": "code",
   "execution_count": null,
   "metadata": {},
   "outputs": [],
   "source": [
    "train_data"
   ]
  },
  {
   "cell_type": "code",
   "execution_count": null,
   "metadata": {},
   "outputs": [],
   "source": [
    "# 학습\n",
    "for epoch in range(num_epochs):\n",
    "    for i in range(0, train_data.shape[0]-seq_length, seq_length):\n",
    "        seq = train_data[i:i+seq_length]\n",
    "        seq = torch.from_numpy(seq).float().to(device)\n",
    "        label = train_data[i+seq_length]\n",
    "        \n",
    "        print(label[1])\n",
    "        \n",
    "        \n",
    "        label = np.digitize(label[1], [-1.0, -0.9, -0.8, -0.7, -0.6, -0.5, -0.4, -0.3, -0.2, -0.1, \n",
    "                                       \n",
    "                                       0.1, 0.2, 0.3, 0.4, 0.5, 0.6, 0.7, 0.8, 0.9, 1.0]) - 1\n",
    "        label = torch.tensor(label).to(device)\n",
    "        \n",
    "        optimizer.zero_grad()\n",
    "        \n",
    "        print(seq.shape)\n",
    "        print(seq)\n",
    "        \n",
    "        output = model(seq.unsqueeze(0))\n",
    "        print(float(output[0][0]))\n",
    "        print(label)\n",
    "#         output = model(seq)\n",
    "        loss = criterion(torch.tensor(float(output[0][0])), label)\n",
    "        loss.backward()\n",
    "        optimizer.step()\n",
    "\n",
    "    if (epoch+1) % 10 == 0:\n",
    "        print(f\"Epoch [{epoch+1}/{num_epochs}], Loss: {loss.item():.4f}\")\n"
   ]
  },
  {
   "cell_type": "code",
   "execution_count": null,
   "metadata": {},
   "outputs": [],
   "source": [
    "\n",
    "# 테스트\n",
    "with torch.no_grad():\n",
    "    seq = test_data[:seq_length]\n",
    "    seq = torch.from_numpy(seq).float().to(device)\n",
    "    pred = []\n",
    "    for i in range(10):\n",
    "        output = model(seq.unsqueeze(0))\n",
    "        pred.append(output.item())\n",
    "        seq = seq[1:]\n",
    "        seq = torch.cat([seq, output.unsqueeze(0)], dim=0)\n",
    "    pred = np.array(pred)\n",
    "    pred = np.digitize(pred, [-1.0, -0.9, -0.8, ..., 0.8, 0.9, 1.0]) - 1\n",
    "\n",
    "# 결과 출력\n",
    "result = []\n",
    "for i in range(13):\n",
    "    if i == 0:\n",
    "        result.append(f\"[-10%, -9%]\")\n",
    "    elif i == 12:\n",
    "        result.append(f\"[+9%, +10%]\")\n",
    "    else:\n",
    "        result.append(f\"[{i-9}%, {i-8}%]\")\n",
    "        \n",
    "print(\"Predictions:\")\n",
    "for p in pred:\n",
    "    print(result[p])\n"
   ]
  }
 ],
 "metadata": {
  "language_info": {
   "name": "python"
  },
  "orig_nbformat": 4
 },
 "nbformat": 4,
 "nbformat_minor": 2
}
